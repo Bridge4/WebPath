{
  "cells": [
    {
      "cell_type": "code",
      "execution_count": 40,
      "metadata": {
        "id": "TQaYRaz3XneI"
      },
      "outputs": [],
      "source": [
        "import json\n",
        "import networkx as nx\n",
        "import matplotlib.pyplot as plt\n",
        "from pylab import rcParams\n",
        "import numpy as np\n",
        "from pyvis.network import Network"
      ]
    },
    {
      "cell_type": "code",
      "execution_count": 41,
      "metadata": {
        "id": "G36OpwfJXneI"
      },
      "outputs": [],
      "source": [
        "# HELPER\n",
        "def printDict(inDict):\n",
        "    for k,v in inDict.items():\n",
        "        if k != \"pages\" and k != \"components\":\n",
        "            print(f\"Key: {k}\")\n",
        "        if type(v) == dict:\n",
        "            printDict(v)\n",
        "        elif type(v) == list:\n",
        "            if k == \"pages\":\n",
        "                print(f\"Pages: {v}\")\n",
        "            else:\n",
        "                print(f\"Components: {v}\\n\")\n",
        "        else:\n",
        "            print(v, end=\"\\n\")\n",
        "\n"
      ]
    },
    {
      "cell_type": "code",
      "execution_count": 42,
      "metadata": {
        "id": "CYfx0VDVXneI"
      },
      "outputs": [],
      "source": [
        "def getAdjacencyList():\n",
        "    f = open('list.json')\n",
        "    data = json.load(f)\n",
        "    return data"
      ]
    },
    {
      "cell_type": "code",
      "execution_count": 64,
      "metadata": {
        "colab": {
          "base_uri": "https://localhost:8080/"
        },
        "id": "AaD-y2hBXneJ",
        "outputId": "42c16edd-116d-43e2-fe92-a13645628303"
      },
      "outputs": [
        {
          "output_type": "stream",
          "name": "stdout",
          "text": [
            "Key: NavBar\n",
            "parentKey: Root\n",
            "Key: _Section1\n",
            "parentKey: NavBar\n",
            "Key: _SubSection1a\n",
            "parentKey: _Section1\n",
            "Pages: ['./page1', './page2', './page3', './page4', './page5']\n",
            "page: ./page1\n",
            "parentKey: _SubSection1a\n",
            "page: ./page2\n",
            "parentKey: _SubSection1a\n",
            "page: ./page3\n",
            "parentKey: _SubSection1a\n",
            "page: ./page4\n",
            "parentKey: _SubSection1a\n",
            "page: ./page5\n",
            "parentKey: _SubSection1a\n",
            "Components: []\n",
            "\n",
            "Key: _SubSection1b\n",
            "parentKey: _Section1\n",
            "Pages: ['./page6', './page7', './page8', './page9', './page2']\n",
            "page: ./page6\n",
            "parentKey: _SubSection1b\n",
            "page: ./page7\n",
            "parentKey: _SubSection1b\n",
            "page: ./page8\n",
            "parentKey: _SubSection1b\n",
            "page: ./page9\n",
            "parentKey: _SubSection1b\n",
            "page: ./page2\n",
            "parentKey: _SubSection1b\n",
            "Components: []\n",
            "\n",
            "Key: _Section2\n",
            "parentKey: NavBar\n",
            "Key: _SubSection2a\n",
            "parentKey: _Section2\n",
            "Pages: ['./page5', './page2', './page7', './page4', './page12']\n",
            "page: ./page5\n",
            "parentKey: _SubSection2a\n",
            "page: ./page2\n",
            "parentKey: _SubSection2a\n",
            "page: ./page7\n",
            "parentKey: _SubSection2a\n",
            "page: ./page4\n",
            "parentKey: _SubSection2a\n",
            "page: ./page12\n",
            "parentKey: _SubSection2a\n",
            "Components: []\n",
            "\n",
            "Key: _SubSection2b\n",
            "parentKey: _Section2\n",
            "Pages: ['./page68', './page12', './page8', './page13']\n",
            "page: ./page68\n",
            "parentKey: _SubSection2b\n",
            "page: ./page12\n",
            "parentKey: _SubSection2b\n",
            "page: ./page8\n",
            "parentKey: _SubSection2b\n",
            "page: ./page13\n",
            "parentKey: _SubSection2b\n",
            "Components: []\n",
            "\n",
            "Key: ./page1\n",
            "parentKey: Root\n",
            "Pages: ['./page13', './page2']\n",
            "page: ./page13\n",
            "parentKey: ./page1\n",
            "page: ./page2\n",
            "parentKey: ./page1\n",
            "Components: []\n",
            "\n",
            "Key: ./page2\n",
            "parentKey: Root\n",
            "Pages: ['./page1', './page68', './page3', './page4']\n",
            "page: ./page1\n",
            "parentKey: ./page2\n",
            "page: ./page68\n",
            "parentKey: ./page2\n",
            "page: ./page3\n",
            "parentKey: ./page2\n",
            "page: ./page4\n",
            "parentKey: ./page2\n",
            "Components: ['NavBar']\n",
            "\n",
            "Key: ./page3\n",
            "parentKey: Root\n",
            "Pages: ['./page5', './page6', './page7']\n",
            "page: ./page5\n",
            "parentKey: ./page3\n",
            "page: ./page6\n",
            "parentKey: ./page3\n",
            "page: ./page7\n",
            "parentKey: ./page3\n",
            "Components: ['NavBar']\n",
            "\n"
          ]
        }
      ],
      "source": [
        "data = getAdjacencyList()\n",
        "def buildGraph(inDict, parentKey, graph):\n",
        "    for key,value in inDict.items():\n",
        "        pKey = parentKey\n",
        "        if key != \"pages\" and key != \"components\":\n",
        "            print(f\"Key: {key}\")\n",
        "        if type(value) == dict:\n",
        "            # Create Node\n",
        "            # Create Edge between Node and Parent\n",
        "            if key[0] == '_':\n",
        "                graph.add_node(key, color='grey')\n",
        "            elif key[:2] != './':\n",
        "                graph.add_node(key, color='green')\n",
        "            # graph.add_node(key, color='')\n",
        "            if pKey != 0:\n",
        "                graph.add_edge(pKey, key)\n",
        "            print(f\"parentKey: {pKey}\")\n",
        "            buildGraph(value, key, graph)\n",
        "        elif type(value) == list:\n",
        "            if key == \"pages\":\n",
        "                print(f\"Pages: {value}\")\n",
        "                for page in value:\n",
        "                    print(f\"page: {page}\")\n",
        "                    print(f\"parentKey: {pKey}\")\n",
        "                    graph.add_node(page, color='red')\n",
        "                    graph.add_edge(pKey, page)\n",
        "\n",
        "            else:\n",
        "                print(f\"Components: {value}\\n\")\n",
        "                for component in value:\n",
        "                    graph.add_node(component)\n",
        "                    graph.add_edge(pKey, component, stroke='dotted')\n",
        "\n",
        "        else:\n",
        "            print(value, end=\"\\n\")\n",
        "    return graph\n",
        "\n",
        "\n",
        "G = nx.DiGraph()\n",
        "myGraph = buildGraph(data, 'Root', G)\n"
      ]
    },
    {
      "cell_type": "code",
      "execution_count": 65,
      "metadata": {
        "colab": {
          "base_uri": "https://localhost:8080/"
        },
        "id": "DOsSc0j7XneJ",
        "outputId": "1c50f466-212f-4554-f096-6d4f513c3923"
      },
      "outputs": [
        {
          "output_type": "stream",
          "name": "stdout",
          "text": [
            "['NavBar', 'Root', '_Section1', '_SubSection1a', './page1', './page2', './page3', './page4', './page5', '_SubSection1b', './page6', './page7', './page8', './page9', '_Section2', '_SubSection2a', './page12', '_SubSection2b', './page68', './page13']\n"
          ]
        }
      ],
      "source": [
        "print(myGraph.nodes)"
      ]
    },
    {
      "cell_type": "code",
      "execution_count": 66,
      "metadata": {
        "colab": {
          "base_uri": "https://localhost:8080/",
          "height": 677
        },
        "id": "0svjtm1mXneJ",
        "outputId": "92c8273d-e7ef-4d76-d62f-60d161c8e016"
      },
      "outputs": [
        {
          "output_type": "stream",
          "name": "stdout",
          "text": [
            "Warning: When  cdn_resources is 'local' jupyter notebook has issues displaying graphics on chrome/safari. Use cdn_resources='in_line' or cdn_resources='remote' if you have issues viewing graphics in a notebook.\n",
            "nx.html\n"
          ]
        },
        {
          "output_type": "execute_result",
          "data": {
            "text/plain": [
              "<IPython.lib.display.IFrame at 0x7e33a8838bb0>"
            ],
            "text/html": [
              "\n",
              "        <iframe\n",
              "            width=\"100%\"\n",
              "            height=\"600px\"\n",
              "            src=\"nx.html\"\n",
              "            frameborder=\"0\"\n",
              "            allowfullscreen\n",
              "            \n",
              "        ></iframe>\n",
              "        "
            ]
          },
          "metadata": {},
          "execution_count": 66
        }
      ],
      "source": [
        "# subax1 = plt.subplot(121)\n",
        "#nx.draw(myGraph, with_labels=True)\n",
        "# subax2 = plt.subplot(122)\n",
        "# nx.draw_shell(G, nlist=[range(5, 10), range(5)], with_labels=True, font_weight='bold')\n",
        "#colors = [['red', 'lightblue'][node.startswith('./')]\n",
        "          #or node in myGraph.nodes()]\n",
        "\n",
        "colors = []\n",
        "for node in myGraph.nodes():\n",
        "    if node.startswith('./'):\n",
        "        colors.append('green')\n",
        "    elif node.startswith('N'):\n",
        "        colors.append('blue')\n",
        "    else:\n",
        "        colors.append('lightblue')\n",
        "net = Network(notebook=True)\n",
        "net.show_buttons(filter_=['nodes', 'edges', 'physics'])\n",
        "net.from_nx(myGraph)\n",
        "net.show('nx.html')\n",
        "# nx.draw_spectral(myGraph,\n",
        "#         with_labels=True,\n",
        "#         node_color=colors)"
      ]
    },
    {
      "cell_type": "code",
      "source": [],
      "metadata": {
        "id": "32HHdPCWYjml"
      },
      "execution_count": 45,
      "outputs": []
    }
  ],
  "metadata": {
    "kernelspec": {
      "display_name": "base",
      "language": "python",
      "name": "python3"
    },
    "language_info": {
      "codemirror_mode": {
        "name": "ipython",
        "version": 3
      },
      "file_extension": ".py",
      "mimetype": "text/x-python",
      "name": "python",
      "nbconvert_exporter": "python",
      "pygments_lexer": "ipython3",
      "version": "3.8.5"
    },
    "colab": {
      "provenance": []
    }
  },
  "nbformat": 4,
  "nbformat_minor": 0
}